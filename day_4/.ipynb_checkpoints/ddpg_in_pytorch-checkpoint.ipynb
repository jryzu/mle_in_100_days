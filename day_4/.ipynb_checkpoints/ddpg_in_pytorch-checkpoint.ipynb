{
 "cells": [
  {
   "cell_type": "code",
   "execution_count": 2,
   "id": "43671917",
   "metadata": {},
   "outputs": [],
   "source": [
    "# done purely from scratch based on memory of Eric Yang Yu's PPO algorithm and this link\n",
    "# https://spinningup.openai.com/en/latest/algorithms/ddpg.html#documentation-pytorch-version"
   ]
  },
  {
   "cell_type": "code",
   "execution_count": 39,
   "id": "408f12c4",
   "metadata": {},
   "outputs": [],
   "source": [
    "import torch.nn.functional as F\n",
    "from torch.optim import Adam\n",
    "from random import sample"
   ]
  },
  {
   "cell_type": "code",
   "execution_count": 28,
   "id": "a78196c8",
   "metadata": {},
   "outputs": [
    {
     "data": {
      "text/plain": [
       "torch.Size([1, 1])"
      ]
     },
     "execution_count": 28,
     "metadata": {},
     "output_type": "execute_result"
    }
   ],
   "source": [
    "torch.eye(1).shape"
   ]
  },
  {
   "cell_type": "code",
   "execution_count": 35,
   "id": "4c79b72b",
   "metadata": {},
   "outputs": [
    {
     "data": {
      "text/plain": [
       "[1, 4]"
      ]
     },
     "execution_count": 35,
     "metadata": {},
     "output_type": "execute_result"
    }
   ],
   "source": [
    "sample([1,2,4,5,6], 2)"
   ]
  },
  {
   "cell_type": "code",
   "execution_count": 42,
   "id": "562303c8",
   "metadata": {},
   "outputs": [],
   "source": [
    "class DDPG():\n",
    "    def __init__(self, policy):\n",
    "        self.actor = policy()\n",
    "        self.actor_optim = Adam(self.actor.parameters(), lr=self.lr)\n",
    "        self.critic = policy()\n",
    "        self.critic_optim = Adam(self.critc.parameters(), lr=self.lr)\n",
    "        \n",
    "        self.actorTarget = policy()\n",
    "        self.criticTarget = policy()\n",
    "        \n",
    "        self.theta = 0\n",
    "        self.thetaTarg = 0\n",
    "        self.phi = 0\n",
    "        self.phiTarg = 0\n",
    "        self.D = []\n",
    "        self.a_low = 0\n",
    "        self.a_high = 1\n",
    "        self.cov_mat = np.eye(1,0)\n",
    "        self.B_len = 100\n",
    "        \n",
    "        self.lr = 0.001\n",
    "        self.gamma = 0.9\n",
    "        self.tau = 0.9\n",
    "        \n",
    "#     def evaluate():\n",
    "        \n",
    "        \n",
    "    def rollout(n_batch=1000):\n",
    "        s, _ = env.reset()\n",
    "        for _ in range(n_batch):\n",
    "            a = self.actor.forward(s)\n",
    "            a += torch.normal(0., self.cov_mat)\n",
    "            a = torch.clamp(a, a_low, a_high)\n",
    "            s_next, r, d, _, _ = env.step(a) # d is terminated\n",
    "            self.D.append((s, a, r, s_next, d))\n",
    "            s = s_next\n",
    "            # do we iterate over this a couple of times?\n",
    "            if d==1:\n",
    "                s, _ = env.reset() \n",
    "        \n",
    "    def learn():\n",
    "        self.D = []\n",
    "        self.actorTarget = copy.deepcopy(self.actor)\n",
    "        self.criticTarget = copy.deepcopy(self.critic)\n",
    "        for _ in range(n_iter):\n",
    "                B = sample(self.D, self.B_len) # randomly sample batch\n",
    "                \n",
    "                y = B[1] + self.gamma * (1-B[4]) * self.criticTarget(B[3], self.actorTarget(B[3]))\n",
    "                \n",
    "                criticLoss = F.mse_loss(self.critic(B[0], self.actor(B[0])))\n",
    "                self.critic_optim.zero_grad()\n",
    "                criticLoss.backward()\n",
    "                self.critic_optim.step()\n",
    "                \n",
    "                actorLoss = self.critic(B[0], self.actor(B[0])).mean() # not negative?\n",
    "                self.actor_optim.zero_grad()\n",
    "                actorLoss.backward()\n",
    "                self.actor_optim.step()\n",
    "                \n",
    "                # upate policy by one step of gradient using\n",
    "                \n",
    "                with torch.no_grad():\n",
    "                    for phi, phiTarget in zip(self.critic.parameters(), self.criticTarget.parameters()):\n",
    "                        phiTarget.data.mul_(self.tau).add_((1-self.tau) * phi)\n",
    "                    \n",
    "                    for theta, thetaTarget in zip(self.actor.parameters(), self.actorTarget.parameters()):\n",
    "                        thetaTarget.data.mul_(self.theta).add_((1-self.theta) * phi)"
   ]
  },
  {
   "cell_type": "code",
   "execution_count": null,
   "id": "e207c5a5",
   "metadata": {},
   "outputs": [],
   "source": []
  },
  {
   "cell_type": "code",
   "execution_count": null,
   "id": "21878f53",
   "metadata": {},
   "outputs": [],
   "source": []
  },
  {
   "cell_type": "code",
   "execution_count": 30,
   "id": "bae91155",
   "metadata": {},
   "outputs": [
    {
     "data": {
      "text/plain": [
       "tensor([[0.9890]])"
      ]
     },
     "execution_count": 30,
     "metadata": {},
     "output_type": "execute_result"
    }
   ],
   "source": [
    "torch.normal(torch.tensor([1.0]),torch.eye(1))"
   ]
  },
  {
   "cell_type": "code",
   "execution_count": null,
   "id": "5cb8bca5",
   "metadata": {},
   "outputs": [],
   "source": []
  },
  {
   "cell_type": "code",
   "execution_count": null,
   "id": "cd6c09a9",
   "metadata": {},
   "outputs": [],
   "source": []
  },
  {
   "cell_type": "code",
   "execution_count": 36,
   "id": "a1b39943",
   "metadata": {},
   "outputs": [],
   "source": [
    "import torch\n",
    "import copy"
   ]
  },
  {
   "cell_type": "code",
   "execution_count": 37,
   "id": "ab925e90",
   "metadata": {},
   "outputs": [],
   "source": [
    "class FeedForwardNeuralNetwork():\n",
    "    def __init__(self, inp_dim, out_dim):\n",
    "        self.layer1 = torch.nn.Linear(inp_dim, 256)\n",
    "        self.layer2 = torch.nn.Linear(256, 256)\n",
    "        self.layer3 = torch.nn.Linear(256, out_dim)\n",
    "        \n",
    "    def forward(self, x):\n",
    "        x = F.relu(self.layer1(x))\n",
    "        x = F.relu(self.layer2(x))\n",
    "        x = self.layer3(x)\n",
    "        return x"
   ]
  },
  {
   "cell_type": "code",
   "execution_count": 16,
   "id": "01f91624",
   "metadata": {},
   "outputs": [],
   "source": [
    "# FFNN = FeedForwardNeuralNetwork(1,3)"
   ]
  },
  {
   "cell_type": "code",
   "execution_count": 17,
   "id": "850d5b3e",
   "metadata": {},
   "outputs": [
    {
     "data": {
      "text/plain": [
       "tensor([ 0.1893, -0.3865,  0.0634], grad_fn=<ViewBackward0>)"
      ]
     },
     "execution_count": 17,
     "metadata": {},
     "output_type": "execute_result"
    }
   ],
   "source": [
    "# FFNN.forward(torch.tensor([3.14]))"
   ]
  }
 ],
 "metadata": {
  "kernelspec": {
   "display_name": "Python 3 (ipykernel)",
   "language": "python",
   "name": "python3"
  },
  "language_info": {
   "codemirror_mode": {
    "name": "ipython",
    "version": 3
   },
   "file_extension": ".py",
   "mimetype": "text/x-python",
   "name": "python",
   "nbconvert_exporter": "python",
   "pygments_lexer": "ipython3",
   "version": "3.10.9"
  }
 },
 "nbformat": 4,
 "nbformat_minor": 5
}
